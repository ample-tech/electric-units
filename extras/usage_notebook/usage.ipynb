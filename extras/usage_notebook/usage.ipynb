{
 "cells": [
  {
   "cell_type": "markdown",
   "metadata": {},
   "source": [
    "---\n",
    "title: \"Using the electric-units package\"\n",
    "description: \"How to make use of the objects in the electric-units package for managing data about the electricity grid and appliances.\"\n",
    "branch: master\n",
    "main: usage.ipynb\n",
    "tags:\n",
    "  - electric-units\n",
    "  - data-transformation\n",
    "  - energy\n",
    "  - power\n",
    "---"
   ]
  },
  {
   "cell_type": "markdown",
   "metadata": {},
   "source": [
    "# Electric Units\n",
    "\n",
    "\n",
    "We often work with power samples and energy cost data. This requires a few common data transformations:\n",
    "\n",
    "* Data is sampled using different timezones - these need to be matched\n",
    "* Costs refer to energy, while samples are of momentary power - the power samples need to be combined to express energy over a time period.\n",
    "* Time periods are often prescriptive - we often summarise our energy use into those prespribed periods.\n"
   ]
  },
  {
   "cell_type": "code",
   "execution_count": 2,
   "metadata": {},
   "outputs": [],
   "source": [
    "import pandas as pd\n",
    "from os import listdir\n",
    "from os.path import isfile, join"
   ]
  },
  {
   "cell_type": "markdown",
   "metadata": {},
   "source": [
    "We start with some power sample data, showing the power at the time of observation. This has been loaded into a DataFrame."
   ]
  },
  {
   "cell_type": "code",
   "execution_count": 3,
   "metadata": {},
   "outputs": [
    {
     "data": {
      "text/html": [
       "<div>\n",
       "<style scoped>\n",
       "    .dataframe tbody tr th:only-of-type {\n",
       "        vertical-align: middle;\n",
       "    }\n",
       "\n",
       "    .dataframe tbody tr th {\n",
       "        vertical-align: top;\n",
       "    }\n",
       "\n",
       "    .dataframe thead th {\n",
       "        text-align: right;\n",
       "    }\n",
       "</style>\n",
       "<table border=\"1\" class=\"dataframe\">\n",
       "  <thead>\n",
       "    <tr style=\"text-align: right;\">\n",
       "      <th></th>\n",
       "      <th>Timestamp</th>\n",
       "      <th>Demand (W)</th>\n",
       "    </tr>\n",
       "  </thead>\n",
       "  <tbody>\n",
       "    <tr>\n",
       "      <th>0</th>\n",
       "      <td>2020-01-03 00:01:00+00:00</td>\n",
       "      <td>0.00</td>\n",
       "    </tr>\n",
       "    <tr>\n",
       "      <th>1</th>\n",
       "      <td>2020-01-03 00:06:00+00:00</td>\n",
       "      <td>76.81</td>\n",
       "    </tr>\n",
       "    <tr>\n",
       "      <th>2</th>\n",
       "      <td>2020-01-03 00:11:00+00:00</td>\n",
       "      <td>77.20</td>\n",
       "    </tr>\n",
       "    <tr>\n",
       "      <th>3</th>\n",
       "      <td>2020-01-03 00:16:00+00:00</td>\n",
       "      <td>74.29</td>\n",
       "    </tr>\n",
       "    <tr>\n",
       "      <th>4</th>\n",
       "      <td>2020-01-03 00:21:00+00:00</td>\n",
       "      <td>0.35</td>\n",
       "    </tr>\n",
       "    <tr>\n",
       "      <th>5</th>\n",
       "      <td>2020-01-03 00:26:00+00:00</td>\n",
       "      <td>2.67</td>\n",
       "    </tr>\n",
       "    <tr>\n",
       "      <th>6</th>\n",
       "      <td>2020-01-03 00:31:00+00:00</td>\n",
       "      <td>0.00</td>\n",
       "    </tr>\n",
       "    <tr>\n",
       "      <th>7</th>\n",
       "      <td>2020-01-03 00:36:00+00:00</td>\n",
       "      <td>0.00</td>\n",
       "    </tr>\n",
       "  </tbody>\n",
       "</table>\n",
       "</div>"
      ],
      "text/plain": [
       "                  Timestamp  Demand (W)\n",
       "0 2020-01-03 00:01:00+00:00        0.00\n",
       "1 2020-01-03 00:06:00+00:00       76.81\n",
       "2 2020-01-03 00:11:00+00:00       77.20\n",
       "3 2020-01-03 00:16:00+00:00       74.29\n",
       "4 2020-01-03 00:21:00+00:00        0.35\n",
       "5 2020-01-03 00:26:00+00:00        2.67\n",
       "6 2020-01-03 00:31:00+00:00        0.00\n",
       "7 2020-01-03 00:36:00+00:00        0.00"
      ]
     },
     "execution_count": 3,
     "metadata": {},
     "output_type": "execute_result"
    }
   ],
   "source": [
    "data_dir = './data'\n",
    "data_frames = []\n",
    "for file_name in listdir(data_dir):\n",
    "    df = pd.read_csv(join(data_dir, file_name), parse_dates=['Timestamp'])\n",
    "    data_frames.append(df)\n",
    "\n",
    "power_sample_data = pd.concat(data_frames)\n",
    "power_sample_data.sort_values(by=['Timestamp'], inplace=True)\n",
    "power_sample_data.head(8)"
   ]
  },
  {
   "cell_type": "markdown",
   "metadata": {},
   "source": [
    "## Power sample objects\n",
    "\n",
    "This DataFrame has a series of `datetime` and `float` values.\n",
    "\n",
    "The electric-units package allows us to work with `WattSample` objects, which have abilities beyond the basic classes of datetime and float.\n",
    "\n",
    "We can get a series of WattSamples from our data using:\n",
    "```\n",
    "power_sample_data.apply(lambda x: WattSample(x['Demand (W)'], x['Timestamp']), axis=1)\n",
    "```\n",
    "\n",
    "And we will add that to our existing DataFrame in the 'power_samples' column:"
   ]
  },
  {
   "cell_type": "code",
   "execution_count": 4,
   "metadata": {},
   "outputs": [
    {
     "data": {
      "text/html": [
       "<div>\n",
       "<style scoped>\n",
       "    .dataframe tbody tr th:only-of-type {\n",
       "        vertical-align: middle;\n",
       "    }\n",
       "\n",
       "    .dataframe tbody tr th {\n",
       "        vertical-align: top;\n",
       "    }\n",
       "\n",
       "    .dataframe thead th {\n",
       "        text-align: right;\n",
       "    }\n",
       "</style>\n",
       "<table border=\"1\" class=\"dataframe\">\n",
       "  <thead>\n",
       "    <tr style=\"text-align: right;\">\n",
       "      <th></th>\n",
       "      <th>Timestamp</th>\n",
       "      <th>Demand (W)</th>\n",
       "      <th>power_samples</th>\n",
       "    </tr>\n",
       "  </thead>\n",
       "  <tbody>\n",
       "    <tr>\n",
       "      <th>283</th>\n",
       "      <td>2020-01-20 23:36:00+00:00</td>\n",
       "      <td>75.20</td>\n",
       "      <td>WattSample(watts=75.2, moment=Timestamp('2020-...</td>\n",
       "    </tr>\n",
       "    <tr>\n",
       "      <th>284</th>\n",
       "      <td>2020-01-20 23:41:00+00:00</td>\n",
       "      <td>72.23</td>\n",
       "      <td>WattSample(watts=72.23, moment=Timestamp('2020...</td>\n",
       "    </tr>\n",
       "    <tr>\n",
       "      <th>285</th>\n",
       "      <td>2020-01-20 23:46:00+00:00</td>\n",
       "      <td>0.32</td>\n",
       "      <td>WattSample(watts=0.32, moment=Timestamp('2020-...</td>\n",
       "    </tr>\n",
       "    <tr>\n",
       "      <th>286</th>\n",
       "      <td>2020-01-20 23:51:00+00:00</td>\n",
       "      <td>0.00</td>\n",
       "      <td>WattSample(watts=0.0, moment=Timestamp('2020-0...</td>\n",
       "    </tr>\n",
       "    <tr>\n",
       "      <th>287</th>\n",
       "      <td>2020-01-20 23:56:00+00:00</td>\n",
       "      <td>0.40</td>\n",
       "      <td>WattSample(watts=0.4, moment=Timestamp('2020-0...</td>\n",
       "    </tr>\n",
       "  </tbody>\n",
       "</table>\n",
       "</div>"
      ],
      "text/plain": [
       "                    Timestamp  Demand (W)  \\\n",
       "283 2020-01-20 23:36:00+00:00       75.20   \n",
       "284 2020-01-20 23:41:00+00:00       72.23   \n",
       "285 2020-01-20 23:46:00+00:00        0.32   \n",
       "286 2020-01-20 23:51:00+00:00        0.00   \n",
       "287 2020-01-20 23:56:00+00:00        0.40   \n",
       "\n",
       "                                         power_samples  \n",
       "283  WattSample(watts=75.2, moment=Timestamp('2020-...  \n",
       "284  WattSample(watts=72.23, moment=Timestamp('2020...  \n",
       "285  WattSample(watts=0.32, moment=Timestamp('2020-...  \n",
       "286  WattSample(watts=0.0, moment=Timestamp('2020-0...  \n",
       "287  WattSample(watts=0.4, moment=Timestamp('2020-0...  "
      ]
     },
     "execution_count": 4,
     "metadata": {},
     "output_type": "execute_result"
    }
   ],
   "source": [
    "from electric_units import WattSample\n",
    "\n",
    "def create_power_samples(row):\n",
    "    return WattSample(watts=row['Demand (W)'], moment=row['Timestamp'])\n",
    "\n",
    "power_sample_data['power_samples'] = power_sample_data.apply(create_power_samples, axis=1)\n",
    "power_sample_data.tail()"
   ]
  },
  {
   "cell_type": "markdown",
   "metadata": {},
   "source": [
    "## Electrical Energy object\n",
    "\n",
    "The WattSample object has some abilities beyond the standard python classes; one of those, which we will use here, is the ability to generate an `ElectricalEnergy` object from a list of them.\n",
    "\n",
    "The `ElectricalEnergy` object expects a list of WattSample objects and requires these objects to gave a propery of both time and power.\n",
    "\n",
    "We can summarise the total energy in the power samples using:\n",
    "```\n",
    "ElectricalEnergy.from_power_samples(power_sample_data['power_samples'])\n",
    "```\n",
    "\n",
    "This will interpolate between each power sample and measure the area under the graph between each pair of samples. Creating a single expression of the energy used between 2 time periods. This energy has a `start`, and an `end` which are both timezone aware, and a measure of the energy in kwh."
   ]
  },
  {
   "cell_type": "code",
   "execution_count": 5,
   "metadata": {},
   "outputs": [
    {
     "data": {
      "text/plain": [
       "ElectricalEnergy(kwh=13.078393833333411, start=Timestamp('2020-01-03 00:01:00+0000', tz='UTC'), end=Timestamp('2020-01-20 23:56:00+0000', tz='UTC'))"
      ]
     },
     "execution_count": 5,
     "metadata": {},
     "output_type": "execute_result"
    }
   ],
   "source": [
    "from electric_units import ElectricalEnergy\n",
    "\n",
    "total_energy = ElectricalEnergy.from_power_samples(power_sample_data['power_samples'])\n",
    "total_energy"
   ]
  },
  {
   "cell_type": "markdown",
   "metadata": {},
   "source": [
    "We can calculate the energy using a subset of the list of WattSamples we have made. Most commonly, we need to work with subsets defined by the time boundaries of the settlement periods in the Austrlian NEM market.\n",
    "\n",
    "The electric-units package comes with a `NemSettlementPeriod` object which declares the properties of these time periods. It also has methods to convert between time samples and these periods and to convert between time zones.\n",
    "\n",
    "But, first, we will split the energy object we created above into a list of energy objects - one for each NemSettlementPeriod within the start and end time of the total energy object.\n",
    "\n",
    "The energy object has a `by_period` method which accepts a SettlementPeriod class. Here we use the NemSettlementPeriod to seperate by those periods.\n",
    "\n",
    "```\n",
    "periodical_energies = total_energy.by_period(NemSettlementPeriod)\n",
    "```\n",
    "\n",
    "In the output, we show the first and last energy objects in this new list.\n",
    "\n",
    "Note how the timezone in the start and end properties have been converted from the UTC we started with, to the AEST timezone."
   ]
  },
  {
   "cell_type": "code",
   "execution_count": 6,
   "metadata": {},
   "outputs": [
    {
     "name": "stdout",
     "output_type": "stream",
     "text": [
      "ElectricalEnergy(kwh=0.019343416666666665, start=Timestamp('2020-01-03 10:00:00+1000', tz='Etc/GMT-10'), end=Timestamp('2020-01-03 10:30:00+1000', tz='Etc/GMT-10'))\n",
      ".\n",
      ".\n",
      ".\n",
      "ElectricalEnergy(kwh=0.016708083333333335, start=Timestamp('2020-01-21 09:30:00+1000', tz='Etc/GMT-10'), end=Timestamp('2020-01-21 10:00:00+1000', tz='Etc/GMT-10'))\n"
     ]
    }
   ],
   "source": [
    "from electric_units import NemSettlementPeriod\n",
    "\n",
    "periodical_energies = total_energy.by_period(NemSettlementPeriod)\n",
    "\n",
    "print(periodical_energies[0])\n",
    "print('.')\n",
    "print('.')\n",
    "print('.')\n",
    "print(periodical_energies[-1])"
   ]
  },
  {
   "cell_type": "markdown",
   "metadata": {},
   "source": [
    "This list contains `ElectricalEnergy` with many useful properties. We can split these useful properties out and create a DataFrame which expresses the energy in these periods.\n",
    "\n",
    "```\n",
    "pd.DataFrame.from_records([energy.__dict__ for energy in periodical_energies])\n",
    "```\n",
    "\n",
    "It is now trivial to add a cost which applies to a settlement period in that timezone.\n",
    "\n",
    "Note the `samples` column. This contains all of the WattSamples used to create the energy in that row."
   ]
  },
  {
   "cell_type": "code",
   "execution_count": 7,
   "metadata": {},
   "outputs": [
    {
     "data": {
      "text/html": [
       "<div>\n",
       "<style scoped>\n",
       "    .dataframe tbody tr th:only-of-type {\n",
       "        vertical-align: middle;\n",
       "    }\n",
       "\n",
       "    .dataframe tbody tr th {\n",
       "        vertical-align: top;\n",
       "    }\n",
       "\n",
       "    .dataframe thead th {\n",
       "        text-align: right;\n",
       "    }\n",
       "</style>\n",
       "<table border=\"1\" class=\"dataframe\">\n",
       "  <thead>\n",
       "    <tr style=\"text-align: right;\">\n",
       "      <th></th>\n",
       "      <th>kwh</th>\n",
       "      <th>start</th>\n",
       "      <th>end</th>\n",
       "      <th>samples</th>\n",
       "    </tr>\n",
       "  </thead>\n",
       "  <tbody>\n",
       "    <tr>\n",
       "      <th>0</th>\n",
       "      <td>0.019343</td>\n",
       "      <td>2020-01-03 10:00:00+10:00</td>\n",
       "      <td>2020-01-03 10:30:00+10:00</td>\n",
       "      <td>[WattSample(watts=0.0, moment=Timestamp('2020-...</td>\n",
       "    </tr>\n",
       "    <tr>\n",
       "      <th>1</th>\n",
       "      <td>0.008500</td>\n",
       "      <td>2020-01-03 10:30:00+10:00</td>\n",
       "      <td>2020-01-03 11:00:00+10:00</td>\n",
       "      <td>[WattSample(watts=0.0, moment=Timestamp('2020-...</td>\n",
       "    </tr>\n",
       "    <tr>\n",
       "      <th>2</th>\n",
       "      <td>0.010952</td>\n",
       "      <td>2020-01-03 11:00:00+10:00</td>\n",
       "      <td>2020-01-03 11:30:00+10:00</td>\n",
       "      <td>[WattSample(watts=76.87, moment=Timestamp('202...</td>\n",
       "    </tr>\n",
       "    <tr>\n",
       "      <th>3</th>\n",
       "      <td>0.014734</td>\n",
       "      <td>2020-01-03 11:30:00+10:00</td>\n",
       "      <td>2020-01-03 12:00:00+10:00</td>\n",
       "      <td>[WattSample(watts=2.75, moment=Timestamp('2020...</td>\n",
       "    </tr>\n",
       "    <tr>\n",
       "      <th>4</th>\n",
       "      <td>0.004366</td>\n",
       "      <td>2020-01-03 12:00:00+10:00</td>\n",
       "      <td>2020-01-03 12:30:00+10:00</td>\n",
       "      <td>[WattSample(watts=73.44, moment=Timestamp('202...</td>\n",
       "    </tr>\n",
       "    <tr>\n",
       "      <th>...</th>\n",
       "      <td>...</td>\n",
       "      <td>...</td>\n",
       "      <td>...</td>\n",
       "      <td>...</td>\n",
       "    </tr>\n",
       "    <tr>\n",
       "      <th>859</th>\n",
       "      <td>0.020818</td>\n",
       "      <td>2020-01-21 07:30:00+10:00</td>\n",
       "      <td>2020-01-21 08:00:00+10:00</td>\n",
       "      <td>[WattSample(watts=0.3, moment=Timestamp('2020-...</td>\n",
       "    </tr>\n",
       "    <tr>\n",
       "      <th>860</th>\n",
       "      <td>0.000497</td>\n",
       "      <td>2020-01-21 08:00:00+10:00</td>\n",
       "      <td>2020-01-21 08:30:00+10:00</td>\n",
       "      <td>[WattSample(watts=0.0, moment=Timestamp('2020-...</td>\n",
       "    </tr>\n",
       "    <tr>\n",
       "      <th>861</th>\n",
       "      <td>0.018690</td>\n",
       "      <td>2020-01-21 08:30:00+10:00</td>\n",
       "      <td>2020-01-21 09:00:00+10:00</td>\n",
       "      <td>[WattSample(watts=0.0, moment=Timestamp('2020-...</td>\n",
       "    </tr>\n",
       "    <tr>\n",
       "      <th>862</th>\n",
       "      <td>0.000437</td>\n",
       "      <td>2020-01-21 09:00:00+10:00</td>\n",
       "      <td>2020-01-21 09:30:00+10:00</td>\n",
       "      <td>[WattSample(watts=0.0, moment=Timestamp('2020-...</td>\n",
       "    </tr>\n",
       "    <tr>\n",
       "      <th>863</th>\n",
       "      <td>0.016708</td>\n",
       "      <td>2020-01-21 09:30:00+10:00</td>\n",
       "      <td>2020-01-21 10:00:00+10:00</td>\n",
       "      <td>[WattSample(watts=74.61, moment=Timestamp('202...</td>\n",
       "    </tr>\n",
       "  </tbody>\n",
       "</table>\n",
       "<p>864 rows × 4 columns</p>\n",
       "</div>"
      ],
      "text/plain": [
       "          kwh                     start                       end  \\\n",
       "0    0.019343 2020-01-03 10:00:00+10:00 2020-01-03 10:30:00+10:00   \n",
       "1    0.008500 2020-01-03 10:30:00+10:00 2020-01-03 11:00:00+10:00   \n",
       "2    0.010952 2020-01-03 11:00:00+10:00 2020-01-03 11:30:00+10:00   \n",
       "3    0.014734 2020-01-03 11:30:00+10:00 2020-01-03 12:00:00+10:00   \n",
       "4    0.004366 2020-01-03 12:00:00+10:00 2020-01-03 12:30:00+10:00   \n",
       "..        ...                       ...                       ...   \n",
       "859  0.020818 2020-01-21 07:30:00+10:00 2020-01-21 08:00:00+10:00   \n",
       "860  0.000497 2020-01-21 08:00:00+10:00 2020-01-21 08:30:00+10:00   \n",
       "861  0.018690 2020-01-21 08:30:00+10:00 2020-01-21 09:00:00+10:00   \n",
       "862  0.000437 2020-01-21 09:00:00+10:00 2020-01-21 09:30:00+10:00   \n",
       "863  0.016708 2020-01-21 09:30:00+10:00 2020-01-21 10:00:00+10:00   \n",
       "\n",
       "                                               samples  \n",
       "0    [WattSample(watts=0.0, moment=Timestamp('2020-...  \n",
       "1    [WattSample(watts=0.0, moment=Timestamp('2020-...  \n",
       "2    [WattSample(watts=76.87, moment=Timestamp('202...  \n",
       "3    [WattSample(watts=2.75, moment=Timestamp('2020...  \n",
       "4    [WattSample(watts=73.44, moment=Timestamp('202...  \n",
       "..                                                 ...  \n",
       "859  [WattSample(watts=0.3, moment=Timestamp('2020-...  \n",
       "860  [WattSample(watts=0.0, moment=Timestamp('2020-...  \n",
       "861  [WattSample(watts=0.0, moment=Timestamp('2020-...  \n",
       "862  [WattSample(watts=0.0, moment=Timestamp('2020-...  \n",
       "863  [WattSample(watts=74.61, moment=Timestamp('202...  \n",
       "\n",
       "[864 rows x 4 columns]"
      ]
     },
     "execution_count": 7,
     "metadata": {},
     "output_type": "execute_result"
    }
   ],
   "source": [
    "energy_by_period = pd.DataFrame.from_records([energy.__dict__ for energy in periodical_energies])\n",
    "energy_by_period"
   ]
  },
  {
   "cell_type": "markdown",
   "metadata": {},
   "source": [
    "If we look at the samples in the first period, from 10:00 to 10:30 (AEST) on 3 Jan 2020 we can see the samples we had in the original data.\n",
    "\n",
    "There is a power sample of 76.81 watts which was recorded at 10:06. In the original data this was at 00:06 but we've converted from UTC to AEST. Yay!\n",
    "\n",
    "Also note that the power sample from 00:01 of 0 watts has been converted to 10:01 AEST, and is now the second sample. But, in our original data this was the first sample. There is also a 'duplication' of the 2.67 watts measured at 10:26, now also at 10:30. These first and last samples are created to extrapole the power sample to the boundary point of the settlement period.\n",
    "\n",
    "This is a key part of how the energy measurement is different from running a mean, or a resample method over the data."
   ]
  },
  {
   "cell_type": "code",
   "execution_count": 8,
   "metadata": {},
   "outputs": [
    {
     "data": {
      "text/plain": [
       "[WattSample(watts=0.0, moment=Timestamp('2020-01-03 10:00:00+1000', tz='Etc/GMT-10')),\n",
       " WattSample(watts=0.0, moment=Timestamp('2020-01-03 10:01:00+1000', tz='Etc/GMT-10')),\n",
       " WattSample(watts=76.81, moment=Timestamp('2020-01-03 10:06:00+1000', tz='Etc/GMT-10')),\n",
       " WattSample(watts=77.2, moment=Timestamp('2020-01-03 10:11:00+1000', tz='Etc/GMT-10')),\n",
       " WattSample(watts=74.29, moment=Timestamp('2020-01-03 10:16:00+1000', tz='Etc/GMT-10')),\n",
       " WattSample(watts=0.35, moment=Timestamp('2020-01-03 10:21:00+1000', tz='Etc/GMT-10')),\n",
       " WattSample(watts=2.67, moment=Timestamp('2020-01-03 10:26:00+1000', tz='Etc/GMT-10')),\n",
       " WattSample(watts=2.67, moment=Timestamp('2020-01-03 10:30:00+1000', tz='Etc/GMT-10'))]"
      ]
     },
     "execution_count": 8,
     "metadata": {},
     "output_type": "execute_result"
    }
   ],
   "source": [
    "energy_by_period.iloc[0].samples"
   ]
  },
  {
   "cell_type": "markdown",
   "metadata": {},
   "source": [
    "We will next exlore the important assumptions and methods we use when calculating the energy:"
   ]
  },
  {
   "cell_type": "markdown",
   "metadata": {},
   "source": [
    "## Energy calculation\n",
    "\n",
    "When calculating the energy between 2 power samples, we calculate the area under the graph. When calculating the energy use across multiple power samples we treat each pair of samples and calculate the energy. This is markedly different from taking a simple mean.\n",
    "\n",
    "Below, we can see 3 power samples charted.\n",
    "\n",
    "| Time | kW |\n",
    "|--|--|\n",
    "|00:00|1|\n",
    "|00:30|2|\n",
    "|01:00|2|\n"
   ]
  },
  {
   "cell_type": "code",
   "execution_count": 9,
   "metadata": {},
   "outputs": [
    {
     "data": {
      "image/png": "[encoded data removed]"
     },
     "metadata": {},
     "output_type": "display_data"
    }
   ],
   "source": [
    "import plotly.express as px\n",
    "\n",
    "fig = px.line(y=[1, 2, 2], x=[\"00:00\", \"00:30\", \"01:00\"], labels={'x':'time', 'y':'killowatts'})\n",
    "fig.show(renderer=\"png\", width=1000)"
   ]
  },
  {
   "cell_type": "markdown",
   "metadata": {},
   "source": [
    "This shows power sampled across 1 hour - if we took the `mean(1, 2, 2)` we would have 1.667kWh\n",
    "\n",
    "If we calculate the area under the chart, treating each pair, we would have 30min at 1.5kW and 30min at 2kW - giving us:\n",
    "\n",
    "```\n",
    "mean(1, 2) * (30 / 60) + mean(2, 2) * (30 / 60)\n",
    "\n",
    "```\n",
    "Which is 1.75 kWh - quite different from the 1.667 calculated with the more simple method"
   ]
  },
  {
   "cell_type": "markdown",
   "metadata": {},
   "source": [
    "## Extrapolation of energy consumption within a Settlement Period\n",
    "\n",
    "When working with energy across an arbitrary time period, there is no extrapolation.\n",
    "\n",
    "However, when we ask for the energy consumed in a fixed settlement period, we extrapolate power samples to the boundary of the settlement period.\n",
    "\n",
    "Below, we chart the actual power samples taken within the first hour of data collection:"
   ]
  },
  {
   "cell_type": "code",
   "execution_count": 10,
   "metadata": {},
   "outputs": [
    {
     "data": {
      "image/png": "[encoded data removed]"
     },
     "metadata": {},
     "output_type": "display_data"
    }
   ],
   "source": [
    "extrapolated_samples = periodical_energies[0].samples + periodical_energies[1].samples\n",
    "extrapolated_power = pd.DataFrame.from_records([sample.__dict__ for sample in extrapolated_samples])\n",
    "extrapolated_power\n",
    "\n",
    "subset = power_sample_data.head(12).copy()\n",
    "subset['Timestamp in AEST'] = subset.apply(lambda x: NemSettlementPeriod.localize(x['Timestamp']), axis=1)\n",
    "\n",
    "import plotly.graph_objects as go\n",
    "from plotly.subplots import make_subplots\n",
    "\n",
    "fig = go.Figure() # make_subplots(specs=[[{\"secondary_y\": True}]])\n",
    "\n",
    "fig.add_trace(\n",
    "    go.Scatter(x=extrapolated_power['moment'], y=extrapolated_power['watts'], name=\"Extrapolated Power Samples\")\n",
    ")\n",
    "\n",
    "fig.add_trace(\n",
    "    go.Scatter(x=subset['Timestamp in AEST'], y=subset['Demand (W)'], name=\"Orignal Power Samples\")\n",
    ")\n",
    "\n",
    "fig.update_layout(\n",
    "    font=dict(\n",
    "        family=\"Avenir\",\n",
    "        size=12,\n",
    "        color=\"#000000\"\n",
    "    )\n",
    ")\n",
    "\n",
    "fig.show(renderer=\"png\", width=1000)"
   ]
  },
  {
   "cell_type": "markdown",
   "metadata": {},
   "source": [
    "You can see that we're extrapolating extra power samples at the period boundaries - 10:00, 10:30 and 11:00.\n",
    "\n",
    "This results, again, in a different energy calculation; favoring a high level of sample rate."
   ]
  },
  {
   "cell_type": "markdown",
   "metadata": {},
   "source": [
    "## Timezone transformations\n",
    "\n",
    "When dealing in energy, and using a timezone aware settlement period class, the timezone conversion is handled for us.\n",
    "\n",
    "But the settlement period also has a standalone method to quickly transform a string or datetime into a localized datetime.\n",
    "\n",
    "We can pass `\"2019-01-01 12:00:00+00:00\"` into the `NemSettlementPeriod.localize` method to get the datetime in AEST:"
   ]
  },
  {
   "cell_type": "code",
   "execution_count": 11,
   "metadata": {},
   "outputs": [
    {
     "data": {
      "text/plain": [
       "datetime.datetime(2019, 1, 1, 22, 0, tzinfo=<StaticTzInfo 'Etc/GMT-10'>)"
      ]
     },
     "execution_count": 11,
     "metadata": {},
     "output_type": "execute_result"
    }
   ],
   "source": [
    "NemSettlementPeriod.localize(\"2019-01-01 12:00:00+00:00\")"
   ]
  },
  {
   "cell_type": "markdown",
   "metadata": {},
   "source": [
    "We can apply that to the whole series to quickly transform the Timestamp series of UTC times in our original data.\n",
    "\n",
    "```\n",
    "power_sample_data.apply(lambda x: NemSettlementPeriod.localize(x['Timestamp']), axis=1)\n",
    "```\n"
   ]
  },
  {
   "cell_type": "code",
   "execution_count": 12,
   "metadata": {},
   "outputs": [
    {
     "data": {
      "text/html": [
       "<div>\n",
       "<style scoped>\n",
       "    .dataframe tbody tr th:only-of-type {\n",
       "        vertical-align: middle;\n",
       "    }\n",
       "\n",
       "    .dataframe tbody tr th {\n",
       "        vertical-align: top;\n",
       "    }\n",
       "\n",
       "    .dataframe thead th {\n",
       "        text-align: right;\n",
       "    }\n",
       "</style>\n",
       "<table border=\"1\" class=\"dataframe\">\n",
       "  <thead>\n",
       "    <tr style=\"text-align: right;\">\n",
       "      <th></th>\n",
       "      <th>Timestamp</th>\n",
       "      <th>Demand (W)</th>\n",
       "      <th>power_samples</th>\n",
       "      <th>Timestamp in AEST</th>\n",
       "    </tr>\n",
       "  </thead>\n",
       "  <tbody>\n",
       "    <tr>\n",
       "      <th>0</th>\n",
       "      <td>2020-01-03 00:01:00+00:00</td>\n",
       "      <td>0.00</td>\n",
       "      <td>WattSample(watts=0.0, moment=Timestamp('2020-0...</td>\n",
       "      <td>2020-01-03 10:01:00+10:00</td>\n",
       "    </tr>\n",
       "    <tr>\n",
       "      <th>1</th>\n",
       "      <td>2020-01-03 00:06:00+00:00</td>\n",
       "      <td>76.81</td>\n",
       "      <td>WattSample(watts=76.81, moment=Timestamp('2020...</td>\n",
       "      <td>2020-01-03 10:06:00+10:00</td>\n",
       "    </tr>\n",
       "    <tr>\n",
       "      <th>2</th>\n",
       "      <td>2020-01-03 00:11:00+00:00</td>\n",
       "      <td>77.20</td>\n",
       "      <td>WattSample(watts=77.2, moment=Timestamp('2020-...</td>\n",
       "      <td>2020-01-03 10:11:00+10:00</td>\n",
       "    </tr>\n",
       "    <tr>\n",
       "      <th>3</th>\n",
       "      <td>2020-01-03 00:16:00+00:00</td>\n",
       "      <td>74.29</td>\n",
       "      <td>WattSample(watts=74.29, moment=Timestamp('2020...</td>\n",
       "      <td>2020-01-03 10:16:00+10:00</td>\n",
       "    </tr>\n",
       "    <tr>\n",
       "      <th>4</th>\n",
       "      <td>2020-01-03 00:21:00+00:00</td>\n",
       "      <td>0.35</td>\n",
       "      <td>WattSample(watts=0.35, moment=Timestamp('2020-...</td>\n",
       "      <td>2020-01-03 10:21:00+10:00</td>\n",
       "    </tr>\n",
       "    <tr>\n",
       "      <th>5</th>\n",
       "      <td>2020-01-03 00:26:00+00:00</td>\n",
       "      <td>2.67</td>\n",
       "      <td>WattSample(watts=2.67, moment=Timestamp('2020-...</td>\n",
       "      <td>2020-01-03 10:26:00+10:00</td>\n",
       "    </tr>\n",
       "    <tr>\n",
       "      <th>6</th>\n",
       "      <td>2020-01-03 00:31:00+00:00</td>\n",
       "      <td>0.00</td>\n",
       "      <td>WattSample(watts=0.0, moment=Timestamp('2020-0...</td>\n",
       "      <td>2020-01-03 10:31:00+10:00</td>\n",
       "    </tr>\n",
       "    <tr>\n",
       "      <th>7</th>\n",
       "      <td>2020-01-03 00:36:00+00:00</td>\n",
       "      <td>0.00</td>\n",
       "      <td>WattSample(watts=0.0, moment=Timestamp('2020-0...</td>\n",
       "      <td>2020-01-03 10:36:00+10:00</td>\n",
       "    </tr>\n",
       "  </tbody>\n",
       "</table>\n",
       "</div>"
      ],
      "text/plain": [
       "                  Timestamp  Demand (W)  \\\n",
       "0 2020-01-03 00:01:00+00:00        0.00   \n",
       "1 2020-01-03 00:06:00+00:00       76.81   \n",
       "2 2020-01-03 00:11:00+00:00       77.20   \n",
       "3 2020-01-03 00:16:00+00:00       74.29   \n",
       "4 2020-01-03 00:21:00+00:00        0.35   \n",
       "5 2020-01-03 00:26:00+00:00        2.67   \n",
       "6 2020-01-03 00:31:00+00:00        0.00   \n",
       "7 2020-01-03 00:36:00+00:00        0.00   \n",
       "\n",
       "                                       power_samples         Timestamp in AEST  \n",
       "0  WattSample(watts=0.0, moment=Timestamp('2020-0... 2020-01-03 10:01:00+10:00  \n",
       "1  WattSample(watts=76.81, moment=Timestamp('2020... 2020-01-03 10:06:00+10:00  \n",
       "2  WattSample(watts=77.2, moment=Timestamp('2020-... 2020-01-03 10:11:00+10:00  \n",
       "3  WattSample(watts=74.29, moment=Timestamp('2020... 2020-01-03 10:16:00+10:00  \n",
       "4  WattSample(watts=0.35, moment=Timestamp('2020-... 2020-01-03 10:21:00+10:00  \n",
       "5  WattSample(watts=2.67, moment=Timestamp('2020-... 2020-01-03 10:26:00+10:00  \n",
       "6  WattSample(watts=0.0, moment=Timestamp('2020-0... 2020-01-03 10:31:00+10:00  \n",
       "7  WattSample(watts=0.0, moment=Timestamp('2020-0... 2020-01-03 10:36:00+10:00  "
      ]
     },
     "execution_count": 12,
     "metadata": {},
     "output_type": "execute_result"
    }
   ],
   "source": [
    "power_sample_data['Timestamp in AEST'] = power_sample_data.apply(lambda x: NemSettlementPeriod.localize(x['Timestamp']), axis=1)\n",
    "power_sample_data.head(8)"
   ]
  },
  {
   "cell_type": "markdown",
   "metadata": {},
   "source": [
    "## Conclusion\n",
    "\n",
    "The electric-units package provides some tooling to more explicitly express the power, energy and time values most often encountered in our work.\n",
    "\n",
    "These objects have conenience methods for data conversion, and take an opinionated approach to calculating energy across time and summariesed within settlement periods.\n"
   ]
  }
 ],
 "metadata": {
  "kernelspec": {
   "display_name": "Python 3",
   "language": "python",
   "name": "python3"
  },
  "language_info": {
   "codemirror_mode": {
    "name": "ipython",
    "version": 3
   },
   "file_extension": ".py",
   "mimetype": "text/x-python",
   "name": "python",
   "nbconvert_exporter": "python",
   "pygments_lexer": "ipython3",
   "version": "3.7.4"
  }
 },
 "nbformat": 4,
 "nbformat_minor": 2
}
